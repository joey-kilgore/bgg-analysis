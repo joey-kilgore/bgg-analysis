{
 "cells": [
  {
   "cell_type": "markdown",
   "metadata": {},
   "source": [
    "# Game Group Analysis\n",
    "This notebook contains an analysis of various people within our board game group. They are listed below by username.\n",
    "\n",
    "Using their stats/catalog on BGG we can see what games different people enjoy, and find potential matches for game preferences!"
   ]
  },
  {
   "cell_type": "code",
   "execution_count": 1,
   "metadata": {},
   "outputs": [],
   "source": [
    "from utils import *\n",
    "from tabulate import tabulate\n",
    "import matplotlib.pyplot as plt\n",
    "import numpy as np\n",
    "\n",
    "users = ['mrjoeboo123',\n",
    "        'Schwingzilla',\n",
    "        'ngeagan',\n",
    "        'Wellsroderick',\n",
    "        'withouthavingseen']"
   ]
  },
  {
   "cell_type": "markdown",
   "metadata": {},
   "source": [
    "Collecting the data is pretty simple since we can just grab the entire account data using the BGG API"
   ]
  },
  {
   "cell_type": "code",
   "execution_count": 2,
   "metadata": {},
   "outputs": [
    {
     "name": "stdout",
     "output_type": "stream",
     "text": [
      "REQUSTING AGAIN Wellsroderick\n",
      "REQUSTING AGAIN withouthavingseen\n"
     ]
    }
   ],
   "source": [
    "collections = {}\n",
    "for user in users:\n",
    "    collections[user] = getCollection(user)"
   ]
  },
  {
   "cell_type": "code",
   "execution_count": 3,
   "metadata": {},
   "outputs": [
    {
     "name": "stdout",
     "output_type": "stream",
     "text": [
      "mrjoeboo123 has 112 games listed on their account\n",
      "Schwingzilla has 271 games listed on their account\n",
      "ngeagan has 582 games listed on their account\n",
      "Wellsroderick has 261 games listed on their account\n",
      "withouthavingseen has 138 games listed on their account\n"
     ]
    }
   ],
   "source": [
    "for user in users:\n",
    "    print(f\"{user} has {len(collections[user]):d} games listed on their account\")"
   ]
  },
  {
   "cell_type": "markdown",
   "metadata": {},
   "source": [
    "# User Game Breakdown\n",
    "Games are listed mainly under 4 options \n",
    "- owned\n",
    "- previously owned\n",
    "- want (want in trade, buy, etc.)\n",
    "- wishlist"
   ]
  },
  {
   "cell_type": "code",
   "execution_count": 4,
   "metadata": {},
   "outputs": [
    {
     "name": "stdout",
     "output_type": "stream",
     "text": [
      "+-------------------+-------+--------------------+--------+--------+---------+\n",
      "| user              |   own |   previosuly owned |   want |   wish |   total |\n",
      "+===================+=======+====================+========+========+=========+\n",
      "| mrjoeboo123       |    84 |                  9 |      0 |     17 |     112 |\n",
      "+-------------------+-------+--------------------+--------+--------+---------+\n",
      "| Schwingzilla      |     0 |                  0 |      0 |      0 |     271 |\n",
      "+-------------------+-------+--------------------+--------+--------+---------+\n",
      "| ngeagan           |   174 |                106 |      0 |    152 |     582 |\n",
      "+-------------------+-------+--------------------+--------+--------+---------+\n",
      "| Wellsroderick     |   155 |                  2 |      0 |     90 |     261 |\n",
      "+-------------------+-------+--------------------+--------+--------+---------+\n",
      "| withouthavingseen |   115 |                  0 |      0 |      4 |     138 |\n",
      "+-------------------+-------+--------------------+--------+--------+---------+\n"
     ]
    }
   ],
   "source": [
    "headers = ['user','own','previosuly owned','want','wish','total']\n",
    "status = []\n",
    "for user in users:\n",
    "    own = 0\n",
    "    prev = 0\n",
    "    want = 0\n",
    "    wish = 0\n",
    "    total = len(collections[user])\n",
    "    for game in collections[user]:\n",
    "        if game.own == 1: own += 1\n",
    "        if game.prevowned == 1: prev += 1\n",
    "        if game.want == 1: want += 1\n",
    "        if game.wish != 0: wish += 1\n",
    "    status.append([user, own, prev, want, wish, total])\n",
    "\n",
    "print(tabulate(status, headers=headers, tablefmt=\"grid\"))"
   ]
  },
  {
   "cell_type": "markdown",
   "metadata": {},
   "source": [
    "Unfortunetely not everyone has marked ratings for the various games they play. But we can take what data we do have and show that here"
   ]
  },
  {
   "cell_type": "code",
   "execution_count": 5,
   "metadata": {},
   "outputs": [
    {
     "data": {
      "image/png": "[encoded data removed]",
      "text/plain": [
       "<Figure size 432x288 with 1 Axes>"
      ]
     },
     "metadata": {
      "needs_background": "light"
     },
     "output_type": "display_data"
    },
    {
     "data": {
      "image/png": "[encoded data removed]",
      "text/plain": [
       "<Figure size 432x288 with 1 Axes>"
      ]
     },
     "metadata": {
      "needs_background": "light"
     },
     "output_type": "display_data"
    },
    {
     "data": {
      "image/png": "[encoded data removed]",
      "text/plain": [
       "<Figure size 432x288 with 1 Axes>"
      ]
     },
     "metadata": {
      "needs_background": "light"
     },
     "output_type": "display_data"
    },
    {
     "data": {
      "image/png": "[encoded data removed]",
      "text/plain": [
       "<Figure size 432x288 with 1 Axes>"
      ]
     },
     "metadata": {
      "needs_background": "light"
     },
     "output_type": "display_data"
    },
    {
     "data": {
      "image/png": "[encoded data removed]",
      "text/plain": [
       "<Figure size 432x288 with 1 Axes>"
      ]
     },
     "metadata": {
      "needs_background": "light"
     },
     "output_type": "display_data"
    }
   ],
   "source": [
    "all_ratings = []\n",
    "colors = []\n",
    "binwidth = 0.5\n",
    "bins=np.arange(1, 10 + binwidth, binwidth)\n",
    "for user in users:\n",
    "    ratings = []\n",
    "    color = generate_random_hex_color()\n",
    "    for game in collections[user]:\n",
    "        if game.myrating != None:\n",
    "            ratings.append(game.myrating)\n",
    "\n",
    "    all_ratings.append(ratings)\n",
    "    colors.append(color)\n",
    "    plt.hist(ratings, bins=bins, label=user, color=color)\n",
    "    plt.legend()\n",
    "    plt.xlabel('Rating')\n",
    "    plt.ylabel('Frequency of Rating')\n",
    "    plt.xlim(1,10)\n",
    "    plt.savefig('./docs/source/plots/'+user+'.png')\n",
    "    plt.show()\n"
   ]
  },
  {
   "cell_type": "markdown",
   "metadata": {},
   "source": [
    "# Finding Common Interests\n",
    "In this section, we will take the collections and find where people overlap (if at all)"
   ]
  },
  {
   "cell_type": "code",
   "execution_count": 16,
   "metadata": {},
   "outputs": [
    {
     "name": "stdout",
     "output_type": "stream",
     "text": [
      "10 MATCHES FOUND\n"
     ]
    }
   ],
   "source": [
    "minRating = 8\n",
    "matches = {}\n",
    "games = {}\n",
    "for i in range(len(users)-1):\n",
    "    for j in range(i+1, len(users)):\n",
    "        for g1 in collections[users[i]]:\n",
    "            if g1.myrating == None: continue\n",
    "            for g2 in collections[users[j]]:\n",
    "                if g2.myrating == None: continue\n",
    "                if g1.objectid == g2.objectid and g1.myrating>minRating and g2.myrating>minRating:\n",
    "                    try:\n",
    "                        if users[j] not in matches[g1.name]:\n",
    "                            matches[g1.name].append(users[j])\n",
    "                    except:\n",
    "                        matches[g1.name] = [users[i], users[j]]\n",
    "                        games[g1.name] = g1\n",
    "\n",
    "print(f\"{len(matches.keys()):d} MATCHES FOUND\")"
   ]
  },
  {
   "cell_type": "markdown",
   "metadata": {},
   "source": [
    "Using this we can see what games people have both rated above the `minRating` in the previous code block (right now a min rating of 8.0)"
   ]
  },
  {
   "cell_type": "code",
   "execution_count": 17,
   "metadata": {},
   "outputs": [
    {
     "name": "stdout",
     "output_type": "stream",
     "text": [
      "<table><tr><th>Game</th><th>Owns</th></tr>\n",
      "<tr><td><img src=\"https://cf.geekdo-images.com/SoU8p28Sk1s8MSvoM4N8pQ__thumb/img/4KuHNTWSMPf8vTNDKSRMMI3oOv8=/fit-in/200x150/filters:strip_icc()/pic6293412.jpg\" /></td><td>mrjoeboo123 ngeagan </td>\n",
      "<tr><td><img src=\"https://cf.geekdo-images.com/x3zxjr-Vw5iU4yDPg70Jgw__thumb/img/o18rjEemoWaVru9Y2TyPwuIaRfE=/fit-in/200x150/filters:strip_icc()/pic3490053.jpg\" /></td><td>mrjoeboo123 ngeagan </td>\n",
      "<tr><td><img src=\"https://cf.geekdo-images.com/OrHS8_a1CqSGiXeTfCk0Wg__thumb/img/ZBTT0qZcD5HMFlhFN7PLMe6zXvg=/fit-in/200x150/filters:strip_icc()/pic3209553.jpg\" /></td><td>mrjoeboo123 ngeagan </td>\n",
      "<tr><td><img src=\"https://cf.geekdo-images.com/hc2NDafu5c24iLJh_IZmyg__thumb/img/8TA1Gn7jERN4yhtXD-xBCGk-QfM=/fit-in/200x150/filters:strip_icc()/pic4885780.png\" /></td><td>mrjoeboo123 Wellsroderick </td>\n",
      "<tr><td><img src=\"https://cf.geekdo-images.com/DPjV1iI0ygo5Bl3XLNRiIg__thumb/img/O2WnqJew5gNjQqPUH3gqmTBc1pQ=/fit-in/200x150/filters:strip_icc()/pic4449526.jpg\" /></td><td>mrjoeboo123 Wellsroderick </td>\n",
      "<tr><td><img src=\"https://cf.geekdo-images.com/k7lG683LBZdvFyS-FH-MpA__thumb/img/6KTtiknxxGwd0ARKrlsdoXFtHfI=/fit-in/200x150/filters:strip_icc()/pic6746812.png\" /></td><td>Schwingzilla ngeagan </td>\n",
      "<tr><td><img src=\"https://cf.geekdo-images.com/fjE7V5LNq31yVEW_yuqI-Q__thumb/img/Cf_mYxR_VvdjTEPXseSurni2JNI=/fit-in/200x150/filters:strip_icc()/pic3918905.png\" /></td><td>ngeagan Wellsroderick </td>\n",
      "<tr><td><img src=\"https://cf.geekdo-images.com/JUAUWaVUzeBgzirhZNmHHw__thumb/img/ACovMZzGGIsBRyEQXFnsT8282NM=/fit-in/200x150/filters:strip_icc()/pic4254509.jpg\" /></td><td>ngeagan withouthavingseen </td>\n",
      "<tr><td><img src=\"https://cf.geekdo-images.com/pNCiUUphnoeWOYfsWq0kng__thumb/img/p7alNkNy8Avm8UISmhYHCiMz5bE=/fit-in/200x150/filters:strip_icc()/pic3530661.jpg\" /></td><td>ngeagan withouthavingseen </td>\n",
      "<tr><td><img src=\"https://cf.geekdo-images.com/ImPgGag98W6gpV1KV812aA__thumb/img/X-lBBdG4uO6LT0y1vXxCN4jdR4M=/fit-in/200x150/filters:strip_icc()/pic1215633.jpg\" /></td><td>ngeagan withouthavingseen </td>\n",
      "</table>\n"
     ]
    }
   ],
   "source": [
    "print(\"<table><tr><th>Game</th><th>Owns</th></tr>\")\n",
    "for k in matches.keys():\n",
    "    out = f'<tr><td><img src=\"{games[k].thumbnail}\" /></td><td>'\n",
    "    for user in matches[k]:\n",
    "        out += f\"{user} \"\n",
    "    out += '</td>'\n",
    "    print(out)\n",
    "print(\"</table>\")"
   ]
  },
  {
   "cell_type": "markdown",
   "metadata": {},
   "source": [
    "## advanced common interests"
   ]
  },
  {
   "cell_type": "code",
   "execution_count": 14,
   "metadata": {
    "scrolled": true
   },
   "outputs": [
    {
     "name": "stdout",
     "output_type": "stream",
     "text": [
      "Games both players own\n",
      "<table><tr><th>Game</th><th>Owns</th></tr>\n",
      "<tr><td><img src=\"https://cf.geekdo-images.com/SoU8p28Sk1s8MSvoM4N8pQ__thumb/img/4KuHNTWSMPf8vTNDKSRMMI3oOv8=/fit-in/200x150/filters:strip_icc()/pic6293412.jpg\" /></td><td>mrjoeboo123 ngeagan Wellsroderick </td></tr> \n",
      "<tr><td><img src=\"https://cf.geekdo-images.com/x3zxjr-Vw5iU4yDPg70Jgw__thumb/img/o18rjEemoWaVru9Y2TyPwuIaRfE=/fit-in/200x150/filters:strip_icc()/pic3490053.jpg\" /></td><td>mrjoeboo123 ngeagan withouthavingseen </td></tr> \n",
      "<tr><td><img src=\"https://cf.geekdo-images.com/nMitZr9Lu4Ux7LLqBy7Z8A__thumb/img/mLHWOFfdxrWljImkFZ2ulIhHt7A=/fit-in/200x150/filters:strip_icc()/pic6875169.png\" /></td><td>mrjoeboo123 ngeagan </td></tr> \n",
      "<tr><td><img src=\"https://cf.geekdo-images.com/Z6MMX39UEAZT3-f-DlnHsA__thumb/img/5Bf6oWIJTdHYpLAodTPqbDxh_Bc=/fit-in/200x150/filters:strip_icc()/pic8114705.jpg\" /></td><td>mrjoeboo123 ngeagan </td></tr> \n",
      "<tr><td><img src=\"https://cf.geekdo-images.com/6QE8mnPFmauoj2THsyUYPA__thumb/img/m63hnvHi6jqlva52FGaWbEqzjys=/fit-in/200x150/filters:strip_icc()/pic4739757.jpg\" /></td><td>mrjoeboo123 ngeagan </td></tr> \n",
      "<tr><td><img src=\"https://cf.geekdo-images.com/OrHS8_a1CqSGiXeTfCk0Wg__thumb/img/ZBTT0qZcD5HMFlhFN7PLMe6zXvg=/fit-in/200x150/filters:strip_icc()/pic3209553.jpg\" /></td><td>mrjoeboo123 ngeagan </td></tr> \n",
      "<tr><td><img src=\"https://cf.geekdo-images.com/gcALy45JfcjyKUn6T3mBIQ__thumb/img/5cPMxq_X6VIO8l2t1_6H7C_KqrU=/fit-in/200x150/filters:strip_icc()/pic4422847.jpg\" /></td><td>mrjoeboo123 ngeagan </td></tr> \n",
      "<tr><td><img src=\"https://cf.geekdo-images.com/pNCiUUphnoeWOYfsWq0kng__thumb/img/p7alNkNy8Avm8UISmhYHCiMz5bE=/fit-in/200x150/filters:strip_icc()/pic3530661.jpg\" /></td><td>mrjoeboo123 ngeagan withouthavingseen </td></tr> \n",
      "<tr><td><img src=\"https://cf.geekdo-images.com/ImPgGag98W6gpV1KV812aA__thumb/img/X-lBBdG4uO6LT0y1vXxCN4jdR4M=/fit-in/200x150/filters:strip_icc()/pic1215633.jpg\" /></td><td>mrjoeboo123 ngeagan withouthavingseen </td></tr> \n",
      "<tr><td><img src=\"https://cf.geekdo-images.com/35h9Za_JvMMMtx_92kT0Jg__thumb/img/BUOso8b0M1aUOkU80FWlhE8uuxc=/fit-in/200x150/filters:strip_icc()/pic7149798.jpg\" /></td><td>mrjoeboo123 Wellsroderick withouthavingseen </td></tr> \n",
      "<tr><td><img src=\"https://cf.geekdo-images.com/zdagMskTF7wJBPjX74XsRw__thumb/img/gV1-ckZSIC-dCxxpq1Y7GmPITzQ=/fit-in/200x150/filters:strip_icc()/pic2576399.jpg\" /></td><td>mrjoeboo123 Wellsroderick withouthavingseen </td></tr> \n",
      "<tr><td><img src=\"https://cf.geekdo-images.com/MBZVrviRAR8NbW6LyUYE-w__thumb/img/3ICKvyfg4RD3R-x4drFAGOjUrj4=/fit-in/200x150/filters:strip_icc()/pic7501708.jpg\" /></td><td>mrjoeboo123 Wellsroderick </td></tr> \n",
      "<tr><td><img src=\"https://cf.geekdo-images.com/XaAM-6aENSUYDAIsc_y1JA__thumb/img/WwAo1NiJEkT0RDmRMhflvP3g53c=/fit-in/200x150/filters:strip_icc()/pic6767666.jpg\" /></td><td>mrjoeboo123 Wellsroderick </td></tr> \n",
      "<tr><td><img src=\"https://cf.geekdo-images.com/MjeJZfulbsM1DSV3DrGJYA__thumb/img/tVSFjSxYEcw7sKj3unIIQV8kxoc=/fit-in/200x150/filters:strip_icc()/pic5100691.jpg\" /></td><td>mrjoeboo123 Wellsroderick </td></tr> \n",
      "<tr><td><img src=\"https://cf.geekdo-images.com/hc2NDafu5c24iLJh_IZmyg__thumb/img/8TA1Gn7jERN4yhtXD-xBCGk-QfM=/fit-in/200x150/filters:strip_icc()/pic4885780.png\" /></td><td>mrjoeboo123 Wellsroderick </td></tr> \n",
      "<tr><td><img src=\"https://cf.geekdo-images.com/DPjV1iI0ygo5Bl3XLNRiIg__thumb/img/O2WnqJew5gNjQqPUH3gqmTBc1pQ=/fit-in/200x150/filters:strip_icc()/pic4449526.jpg\" /></td><td>mrjoeboo123 Wellsroderick </td></tr> \n",
      "<tr><td><img src=\"https://cf.geekdo-images.com/KbEm71YWfpa-JM_Ti_pArA__thumb/img/-LZJjy47A667QM-T5MVdaU5_Ucc=/fit-in/200x150/filters:strip_icc()/pic5394328.jpg\" /></td><td>mrjoeboo123 Wellsroderick </td></tr> \n",
      "<tr><td><img src=\"https://cf.geekdo-images.com/vnPRRrEtY0erOXrTiK4PEg__thumb/img/6sfDYSlXIA79iotjVvG7eXSdv4o=/fit-in/200x150/filters:strip_icc()/pic3489154.jpg\" /></td><td>mrjoeboo123 Wellsroderick </td></tr> \n",
      "<tr><td><img src=\"https://cf.geekdo-images.com/MWhSY_GOe2-bmlQ2rntSVg__thumb/img/vuR_0PCX1w2EkjO_LbchOHZPOwU=/fit-in/200x150/filters:strip_icc()/pic2016054.jpg\" /></td><td>mrjoeboo123 Wellsroderick </td></tr> \n",
      "<tr><td><img src=\"https://cf.geekdo-images.com/T1ltXwapFUtghS9A7_tf4g__thumb/img/GtNX7gCmGpw39Tr6JApWC3Aga5U=/fit-in/200x150/filters:strip_icc()/pic1401448.jpg\" /></td><td>mrjoeboo123 Wellsroderick </td></tr> \n",
      "<tr><td><img src=\"https://cf.geekdo-images.com/BH5gxOe_ozOtWihuCJ3lYw__thumb/img/-ah6aI10vhHHbGNCSyeOBya5A1o=/fit-in/200x150/filters:strip_icc()/pic2098412.jpg\" /></td><td>mrjoeboo123 Wellsroderick </td></tr> \n",
      "<tr><td><img src=\"https://cf.geekdo-images.com/mF2cSNRk2O6HtE45Sl9TcA__thumb/img/K2AgL-KE_CTcvwahWd7zlt9YR0U=/fit-in/200x150/filters:strip_icc()/pic4852372.jpg\" /></td><td>mrjoeboo123 Wellsroderick </td></tr> \n",
      "<tr><td><img src=\"https://cf.geekdo-images.com/ZWJg0dCdrWHxVnc0eFXK8w__thumb/img/a9rsFV6KR0aun8GobhRU16aU8Kc=/fit-in/200x150/filters:strip_icc()/pic38668.jpg\" /></td><td>mrjoeboo123 Wellsroderick </td></tr> \n",
      "<tr><td><img src=\"https://cf.geekdo-images.com/2V3d4ryhxkS3RoPtDrvpUw__thumb/img/NWgNhoxUIF7Lmj1apRkZQhFL6NU=/fit-in/200x150/filters:strip_icc()/pic875761.jpg\" /></td><td>mrjoeboo123 Wellsroderick withouthavingseen </td></tr> \n",
      "<tr><td><img src=\"https://cf.geekdo-images.com/yLZJCVLlIx4c7eJEWUNJ7w__thumb/img/VNToqgS2-pOGU6MuvIkMPKn_y-s=/fit-in/200x150/filters:strip_icc()/pic4458123.jpg\" /></td><td>mrjoeboo123 Wellsroderick </td></tr> \n",
      "<tr><td><img src=\"https://cf.geekdo-images.com/lHadyVLPUQfNz_qV6MMp_Q__thumb/img/zWiETTyIp4Xo1o0l2mtOdt3G-ls=/fit-in/200x150/filters:strip_icc()/pic3218988.jpg\" /></td><td>mrjoeboo123 withouthavingseen </td></tr> \n",
      "<tr><td><img src=\"https://cf.geekdo-images.com/98LnQShydr11OBKS46xY-Q__thumb/img/et-fnuozyOdBOVL-5kSS3_7I8fw=/fit-in/200x150/filters:strip_icc()/pic5687013.jpg\" /></td><td>mrjoeboo123 withouthavingseen </td></tr> \n",
      "<tr><td><img src=\"https://cf.geekdo-images.com/IcCXUcMVU3RPjshkZRJjhw__thumb/img/38MRRZHCFhYY6fwOK7I3BsZspjw=/fit-in/200x150/filters:strip_icc()/pic3402936.jpg\" /></td><td>mrjoeboo123 withouthavingseen </td></tr> \n",
      "<tr><td><img src=\"https://cf.geekdo-images.com/m_RzXpHURC0_xLkvRSR_sw__thumb/img/OfgWmkGJj5BgOO0zFHEtP5CHfbU=/fit-in/200x150/filters:strip_icc()/pic3043734.jpg\" /></td><td>mrjoeboo123 withouthavingseen </td></tr> \n",
      "<tr><td><img src=\"https://cf.geekdo-images.com/3h9W8BfB_rltQ48EBmHliw__thumb/img/RGpbcY90eBcNLXbHLMBwLrr2uzo=/fit-in/200x150/filters:strip_icc()/pic3132685.png\" /></td><td>mrjoeboo123 withouthavingseen </td></tr> \n",
      "<tr><td><img src=\"https://cf.geekdo-images.com/rAQ3hIXoH6xDcj41v9iqCg__thumb/img/xA2T7PiwN3Z8pwAksicoCOA1tf0=/fit-in/200x150/filters:strip_icc()/pic5164305.jpg\" /></td><td>mrjoeboo123 withouthavingseen </td></tr> \n",
      "<tr><td><img src=\"https://cf.geekdo-images.com/j6iQpZ4XkemZP07HNCODBA__thumb/img/B2u2ghwlmI_qsUtCwuvcbnBcIqU=/fit-in/200x150/filters:strip_icc()/pic394356.jpg\" /></td><td>ngeagan Wellsroderick </td></tr> \n",
      "<tr><td><img src=\"https://cf.geekdo-images.com/fjE7V5LNq31yVEW_yuqI-Q__thumb/img/Cf_mYxR_VvdjTEPXseSurni2JNI=/fit-in/200x150/filters:strip_icc()/pic3918905.png\" /></td><td>ngeagan Wellsroderick </td></tr> \n",
      "<tr><td><img src=\"https://cf.geekdo-images.com/s9oGMCo1fcfV4Dk3EnqLZw__thumb/img/AKxMMz2DTbBrEynhDROla8fdjJ4=/fit-in/200x150/filters:strip_icc()/pic3146943.png\" /></td><td>ngeagan Wellsroderick </td></tr> \n",
      "<tr><td><img src=\"https://cf.geekdo-images.com/TUtzY-F7gKTIKm9y8e1AQw__thumb/img/CVgcWusAt0oVteoy0XYmsFmhfQY=/fit-in/200x150/filters:strip_icc()/pic6520382.jpg\" /></td><td>ngeagan Wellsroderick </td></tr> \n",
      "<tr><td><img src=\"https://cf.geekdo-images.com/-vOrd4bOspibyohYExLqWg__thumb/img/2GbaKvYOzWIxfgbYTk2R9puiyzo=/fit-in/200x150/filters:strip_icc()/pic6940449.png\" /></td><td>ngeagan Wellsroderick </td></tr> \n",
      "<tr><td><img src=\"https://cf.geekdo-images.com/qKcKjHpzAvLddwBhyindag__thumb/img/HhZu2qLp9wyX9PNgvmDE8_hCl-0=/fit-in/200x150/filters:strip_icc()/pic4268499.jpg\" /></td><td>ngeagan Wellsroderick </td></tr> \n",
      "<tr><td><img src=\"https://cf.geekdo-images.com/L2Wn-zUqkcHgqvwvY212Ig__thumb/img/RQunBacBw949DkYBgzoS5YaXgJo=/fit-in/200x150/filters:strip_icc()/pic4924232.jpg\" /></td><td>ngeagan Wellsroderick </td></tr> \n",
      "<tr><td><img src=\"https://cf.geekdo-images.com/fz4aYmycg9baQlm_DzwyKA__thumb/img/j66PBN_vi0zLs7c-zR-r2NkUT2g=/fit-in/200x150/filters:strip_icc()/pic7443423.jpg\" /></td><td>ngeagan Wellsroderick </td></tr> \n",
      "<tr><td><img src=\"https://cf.geekdo-images.com/gTxav_KKQK1rDg-XuCjCSA__thumb/img/tFTOAKG5aDXxYfNRmJNmfyxH83M=/fit-in/200x150/filters:strip_icc()/pic5164812.jpg\" /></td><td>ngeagan Wellsroderick </td></tr> \n",
      "<tr><td><img src=\"https://cf.geekdo-images.com/GHrnr-Khb0LvBU_QkrC_qA__thumb/img/pFt03CkI8uo3rOi4E7_ZrZfSmIM=/fit-in/200x150/filters:strip_icc()/pic7192024.png\" /></td><td>ngeagan Wellsroderick </td></tr> \n",
      "<tr><td><img src=\"https://cf.geekdo-images.com/l_PRU2lVlX9seScRFcvFlA__thumb/img/pULDtVd75QZgGfvSMhr6Rs07vK8=/fit-in/200x150/filters:strip_icc()/pic6500949.jpg\" /></td><td>ngeagan Wellsroderick </td></tr> \n",
      "<tr><td><img src=\"https://cf.geekdo-images.com/JYcnETp-reOtGXnYz1qY3Q__thumb/img/ZR48vZkl7ac-K2jue7iOZu38wOc=/fit-in/200x150/filters:strip_icc()/pic8031359.jpg\" /></td><td>ngeagan withouthavingseen </td></tr> \n",
      "<tr><td><img src=\"https://cf.geekdo-images.com/1BMyuEwK0zV9005oYinYLw__thumb/img/QFzbDlFGzK3yRZNLnRr4YzHwEuY=/fit-in/200x150/filters:strip_icc()/pic4317519.jpg\" /></td><td>ngeagan withouthavingseen </td></tr> \n",
      "<tr><td><img src=\"https://cf.geekdo-images.com/owyKXaa5SPB2HG9F_MueNQ__thumb/img/poEY0PMTpz4X_SOUaPjs6G7qr7o=/fit-in/200x150/filters:strip_icc()/pic3169827.png\" /></td><td>ngeagan withouthavingseen </td></tr> \n",
      "<tr><td><img src=\"https://cf.geekdo-images.com/7UK6bLlP0Cz3EFYCqhtcSw__thumb/img/7WjwLTkySTiSMQu89ClZRhspd5Q=/fit-in/200x150/filters:strip_icc()/pic5934958.png\" /></td><td>ngeagan withouthavingseen </td></tr> \n",
      "<tr><td><img src=\"https://cf.geekdo-images.com/4XzRDw3VrgNpNfZlzZl66w__thumb/img/dGMBL60RMtAfcx741phN75mqlnA=/fit-in/200x150/filters:strip_icc()/pic5608818.png\" /></td><td>ngeagan withouthavingseen </td></tr> \n",
      "<tr><td><img src=\"https://cf.geekdo-images.com/TAdE4z_bwAAjJlmPrkmKhA__thumb/img/pwgtQn8ArKjwBxk3bnDuIVAPWgU=/fit-in/200x150/filters:strip_icc()/pic6601629.jpg\" /></td><td>ngeagan withouthavingseen </td></tr> \n",
      "<tr><td><img src=\"https://cf.geekdo-images.com/j9RO81ihYw0_oPj6iqV_bA__thumb/img/iRomFjZ0oELmm1pBVtJrNwyl4nc=/fit-in/200x150/filters:strip_icc()/pic6682376.jpg\" /></td><td>ngeagan withouthavingseen </td></tr> \n",
      "<tr><td><img src=\"https://cf.geekdo-images.com/7zH6Kt5ebWEixjDGmHweNA__thumb/img/PVkJyJhCtzo1ZwKO4iuRaqUyKJc=/fit-in/200x150/filters:strip_icc()/pic2247258.png\" /></td><td>ngeagan withouthavingseen </td></tr> \n",
      "<tr><td><img src=\"https://cf.geekdo-images.com/cf0xxkevbwTGF3VUZymKjg__thumb/img/NUcMdmZ3_eA1YfIwL8iRgkZKaHw=/fit-in/200x150/filters:strip_icc()/pic6398727.png\" /></td><td>ngeagan withouthavingseen </td></tr> \n",
      "<tr><td><img src=\"https://cf.geekdo-images.com/uXMeQzNenHb3zK7Hoa6b2w__thumb/img/WyPClajMWU9lV5BdCXiZnqdZgmU=/fit-in/200x150/filters:strip_icc()/pic7398904.jpg\" /></td><td>ngeagan withouthavingseen </td></tr> \n",
      "<tr><td><img src=\"https://cf.geekdo-images.com/aZ3I9B_aEywK4O_qP_Hz9w__thumb/img/8IMkDRysr2XJafkJGGWoWRcj3e0=/fit-in/200x150/filters:strip_icc()/pic4654146.png\" /></td><td>ngeagan withouthavingseen </td></tr> \n",
      "<tr><td><img src=\"https://cf.geekdo-images.com/Y23LsS9HxPgO0XT5RvtwTA__thumb/img/JQ6I0tZDYByNKmMSW0gsTiNulEQ=/fit-in/200x150/filters:strip_icc()/pic3678411.png\" /></td><td>ngeagan withouthavingseen </td></tr> \n",
      "<tr><td><img src=\"https://cf.geekdo-images.com/_JOHDrU9qetjYY52-fL9ag__thumb/img/gLvJ-Hx6baQLEsqy-Ak0lcsxp4c=/fit-in/200x150/filters:strip_icc()/pic5052906.jpg\" /></td><td>ngeagan withouthavingseen </td></tr> \n",
      "<tr><td><img src=\"https://cf.geekdo-images.com/gQOQW7p1RWHzY54Lrs-_pA__thumb/img/qmypl6agXd78n1_vAiO5LZcCXHc=/fit-in/200x150/filters:strip_icc()/pic3315915.jpg\" /></td><td>Wellsroderick withouthavingseen </td></tr> \n",
      "<tr><td><img src=\"https://cf.geekdo-images.com/eA8t7VvWxV2kDJSezNvIYQ__thumb/img/zzCR9k0D0rjEeEsBk08NJ1eb1Y8=/fit-in/200x150/filters:strip_icc()/pic5188635.jpg\" /></td><td>Wellsroderick withouthavingseen </td></tr> \n",
      "</table>\n"
     ]
    }
   ],
   "source": [
    "print(\"Games both players own\")\n",
    "matches = {}\n",
    "games = {}\n",
    "for i in range(len(users)-1):\n",
    "    for j in range(i+1, len(users)):\n",
    "        for g1 in collections[users[i]]:\n",
    "            for g2 in collections[users[j]]:\n",
    "                if g1.objectid == g2.objectid and g1.own==1 and g2.own==1:\n",
    "                    try:\n",
    "                        if users[j] not in matches[g1.name]:\n",
    "                            matches[g1.name].append(users[j])\n",
    "                    except:\n",
    "                        matches[g1.name] = [users[i], users[j]]\n",
    "                        games[g1.name] = g1\n",
    "\n",
    "print(\"<table><tr><th>Game</th><th>Owns</th></tr>\")\n",
    "for k in matches.keys():\n",
    "    out = f'<tr><td><img src=\"{games[k].thumbnail}\" /></td><td>'\n",
    "    for user in matches[k]:\n",
    "        out += f\"{user} \"\n",
    "    out += '</td></tr> '\n",
    "    print(out)\n",
    "print(\"</table>\")"
   ]
  },
  {
   "cell_type": "markdown",
   "metadata": {},
   "source": [
    "# Wishlist and Owns"
   ]
  },
  {
   "cell_type": "code",
   "execution_count": 12,
   "metadata": {},
   "outputs": [
    {
     "name": "stdout",
     "output_type": "stream",
     "text": [
      "Games matches for wishlist\n",
      "<table><tr><th>Game</th><th>Wants to play</th><th>Owns</th></tr>\n",
      "<tr><td><img src=\"https://cf.geekdo-images.com/JUAUWaVUzeBgzirhZNmHHw__thumb/img/ACovMZzGGIsBRyEQXFnsT8282NM=/fit-in/200x150/filters:strip_icc()/pic4254509.jpg\" /></td><td>mrjoeboo123</td><td>ngeagan</td></tr>   \n",
      "<tr><td><img src=\"https://cf.geekdo-images.com/ClF2CvK7jY4FboOijFVMaQ__thumb/img/EDHjPuMNiYHeITXdAXhquID5XpM=/fit-in/200x150/filters:strip_icc()/pic4248793.png\" /></td><td>mrjoeboo123</td><td>Wellsroderick</td></tr>   \n",
      "<tr><td><img src=\"https://cf.geekdo-images.com/vvKATmuascQ-ZWQLr4Po3Q__thumb/img/5dF8PTaqSqMwuMgEKMy-sUuFfZY=/fit-in/200x150/filters:strip_icc()/pic4793071.png\" /></td><td>mrjoeboo123</td><td>Wellsroderick</td></tr>   \n",
      "<tr><td><img src=\"https://cf.geekdo-images.com/cCLn9Mvb7jRSaZzHeUXhoQ__thumb/img/B8BFQLR2Po3ekI_7XSG1kR9oil0=/fit-in/200x150/filters:strip_icc()/pic6937913.jpg\" /></td><td>mrjoeboo123</td><td>Wellsroderick</td></tr>   \n",
      "<tr><td><img src=\"https://cf.geekdo-images.com/v1aPqYQ17zExx8CttISS2w__thumb/img/Z9fXSFxPO9nRo1-mhDR0ufzmWj0=/fit-in/200x150/filters:strip_icc()/pic3949764.jpg\" /></td><td>mrjoeboo123</td><td>Wellsroderick</td></tr>   \n",
      "<tr><td><img src=\"https://cf.geekdo-images.com/MHhQxXVjiaa6C-04nGiIWw__thumb/img/rgETRyeuYs_wiZ5y-9Zj5H8kyFo=/fit-in/200x150/filters:strip_icc()/pic6640638.jpg\" /></td><td>mrjoeboo123</td><td>Wellsroderick</td></tr>   \n",
      "<tr><td><img src=\"https://cf.geekdo-images.com/5CFwjd8zTcGYVUnkXh04hw__thumb/img/0AG_6zsfYQjqlUHG0-_8lcjp8rc=/fit-in/200x150/filters:strip_icc()/pic1176894.jpg\" /></td><td>mrjoeboo123</td><td>withouthavingseen</td></tr>   \n",
      "<tr><td><img src=\"https://cf.geekdo-images.com/dJh9HkZC346NgPTAicJq_A__thumb/img/3cgW5aP-JJeKSpZMjA0NFheMnfY=/fit-in/200x150/filters:strip_icc()/pic1513085.jpg\" /></td><td>mrjoeboo123</td><td>withouthavingseen</td></tr>   \n",
      "<tr><td><img src=\"https://cf.geekdo-images.com/lHadyVLPUQfNz_qV6MMp_Q__thumb/img/zWiETTyIp4Xo1o0l2mtOdt3G-ls=/fit-in/200x150/filters:strip_icc()/pic3218988.jpg\" /></td><td>ngeagan</td><td>mrjoeboo123</td></tr>   \n",
      "<tr><td><img src=\"https://cf.geekdo-images.com/-DOqixs8uwKUvvWPKI4f9w__thumb/img/xLs-ldTPwaADbvzkOpF0sgWzwck=/fit-in/200x150/filters:strip_icc()/pic5261714.jpg\" /></td><td>ngeagan</td><td>mrjoeboo123</td></tr>   \n",
      "<tr><td><img src=\"https://cf.geekdo-images.com/aXqSKhZ-J7Xl-TTWRCEq4g__thumb/img/cO7RofS2qlfKTMdTxHM7IjWDN2g=/fit-in/200x150/filters:strip_icc()/pic7032801.jpg\" /></td><td>ngeagan</td><td>Wellsroderick</td></tr>   \n",
      "<tr><td><img src=\"https://cf.geekdo-images.com/N0hCcxXw8d7vUjKfsYO6vg__thumb/img/K4DDlRzl6qlQf9L_oMLb7g9WUYo=/fit-in/200x150/filters:strip_icc()/pic6121929.png\" /></td><td>ngeagan</td><td>Wellsroderick</td></tr>   \n",
      "<tr><td><img src=\"https://cf.geekdo-images.com/fIVUaMvbfy6GCOgfxt7xaw__thumb/img/jKsO4nKmtNjX5bfH7aCPeK7hsqU=/fit-in/200x150/filters:strip_icc()/pic7647168.jpg\" /></td><td>ngeagan</td><td>Wellsroderick</td></tr>   \n",
      "<tr><td><img src=\"https://cf.geekdo-images.com/Nm0Iw8NoiM9V8IsifimGBw__thumb/img/4GFbhkEWyIublXmikE2Tep6wSIQ=/fit-in/200x150/filters:strip_icc()/pic4357658.jpg\" /></td><td>ngeagan</td><td>Wellsroderick</td></tr>   \n",
      "<tr><td><img src=\"https://cf.geekdo-images.com/1AbjSJSVWFJ5GEXriWLd0w__thumb/img/Hl5F3BOBmcd-NmdNfkbDHbqheNo=/fit-in/200x150/filters:strip_icc()/pic4092498.jpg\" /></td><td>ngeagan</td><td>Wellsroderick</td></tr>   \n",
      "<tr><td><img src=\"https://cf.geekdo-images.com/iCd6hMGDzsQ_UXh00iKsJA__thumb/img/QbOlBm7DZGP2ZBnGZ-YaD-py-UQ=/fit-in/200x150/filters:strip_icc()/pic4602347.jpg\" /></td><td>ngeagan</td><td>Wellsroderick</td></tr>   \n",
      "<tr><td><img src=\"https://cf.geekdo-images.com/O03NSgVOl-FsbLiAg_GV1w__thumb/img/_Oz_KuJStdA9akO-zfZ1rlrdxr4=/fit-in/200x150/filters:strip_icc()/pic4306846.jpg\" /></td><td>ngeagan</td><td>withouthavingseen</td></tr>   \n",
      "<tr><td><img src=\"https://cf.geekdo-images.com/S-Ro5X2B6x2V6bana2f0fA__thumb/img/vMUxc-cwNH-PMKaDgWx0HAjJFDQ=/fit-in/200x150/filters:strip_icc()/pic6149105.jpg\" /></td><td>ngeagan</td><td>withouthavingseen</td></tr>   \n",
      "<tr><td><img src=\"https://cf.geekdo-images.com/lHadyVLPUQfNz_qV6MMp_Q__thumb/img/zWiETTyIp4Xo1o0l2mtOdt3G-ls=/fit-in/200x150/filters:strip_icc()/pic3218988.jpg\" /></td><td>ngeagan</td><td>withouthavingseen</td></tr>   \n",
      "<tr><td><img src=\"https://cf.geekdo-images.com/TMbEUs1GZpO96P5ubsqQew__thumb/img/7OZKGV67TxGK9cL5Kv7Kh2PbHFE=/fit-in/200x150/filters:strip_icc()/pic3693999.jpg\" /></td><td>ngeagan</td><td>withouthavingseen</td></tr>   \n",
      "<tr><td><img src=\"https://cf.geekdo-images.com/2DyxMVASynw87LRULZuyqA__thumb/img/yIUSMoN8O5FeDZjXa4vreKj5Ogw=/fit-in/200x150/filters:strip_icc()/pic4657706.jpg\" /></td><td>ngeagan</td><td>withouthavingseen</td></tr>   \n",
      "<tr><td><img src=\"https://cf.geekdo-images.com/zEv4IVUrCK9CpNrO54b7Kg__thumb/img/ydCmEIpZy9t4p6lrnOnUYqHrX80=/fit-in/200x150/filters:strip_icc()/pic7071623.jpg\" /></td><td>ngeagan</td><td>withouthavingseen</td></tr>   \n",
      "<tr><td><img src=\"https://cf.geekdo-images.com/eSfBPvoLiAKvCMBzovAnIA__thumb/img/jThYRlCnbZ72LjL412mxYwQ3Q0A=/fit-in/200x150/filters:strip_icc()/pic1395308.jpg\" /></td><td>ngeagan</td><td>withouthavingseen</td></tr>   \n",
      "<tr><td><img src=\"https://cf.geekdo-images.com/djdeCr__iNV5rMnGnxNiaQ__thumb/img/jULoayRVuV3c8cRqKOPsf7oMO5w=/fit-in/200x150/filters:strip_icc()/pic4336095.png\" /></td><td>ngeagan</td><td>withouthavingseen</td></tr>   \n",
      "<tr><td><img src=\"https://cf.geekdo-images.com/P1kQ0kQIoulihI9KlBh4MQ__thumb/img/a8r8IJ69_I4PPUCztFsottowdfQ=/fit-in/200x150/filters:strip_icc()/pic1380423.jpg\" /></td><td>Wellsroderick</td><td>mrjoeboo123</td></tr>   \n",
      "<tr><td><img src=\"https://cf.geekdo-images.com/XtY99AlaiCKEClca1ShawA__thumb/img/JJJ-tXfmudn-xCJvkfyFjnURs-Q=/fit-in/200x150/filters:strip_icc()/pic6991687.jpg\" /></td><td>Wellsroderick</td><td>mrjoeboo123</td></tr>   \n",
      "<tr><td><img src=\"https://cf.geekdo-images.com/x3zxjr-Vw5iU4yDPg70Jgw__thumb/img/o18rjEemoWaVru9Y2TyPwuIaRfE=/fit-in/200x150/filters:strip_icc()/pic3490053.jpg\" /></td><td>Wellsroderick</td><td>mrjoeboo123</td></tr>   \n",
      "<tr><td><img src=\"https://cf.geekdo-images.com/mF2cSNRk2O6HtE45Sl9TcA__thumb/img/K2AgL-KE_CTcvwahWd7zlt9YR0U=/fit-in/200x150/filters:strip_icc()/pic4852372.jpg\" /></td><td>Wellsroderick</td><td>mrjoeboo123</td></tr>   \n",
      "<tr><td><img src=\"https://cf.geekdo-images.com/XWImAu_3RK61wbzcKboVdA__thumb/img/Ry-6KHwNgERWadyxs1X1_P3dMvY=/fit-in/200x150/filters:strip_icc()/pic8145530.png\" /></td><td>Wellsroderick</td><td>ngeagan</td></tr>   \n",
      "<tr><td><img src=\"https://cf.geekdo-images.com/x3zxjr-Vw5iU4yDPg70Jgw__thumb/img/o18rjEemoWaVru9Y2TyPwuIaRfE=/fit-in/200x150/filters:strip_icc()/pic3490053.jpg\" /></td><td>Wellsroderick</td><td>ngeagan</td></tr>   \n",
      "<tr><td><img src=\"https://cf.geekdo-images.com/PhjygpWSo-0labGrPBMyyg__thumb/img/JGgY-nBmkyB8WRp8vcoBLlNMQ5U=/fit-in/200x150/filters:strip_icc()/pic5666597.jpg\" /></td><td>Wellsroderick</td><td>ngeagan</td></tr>   \n",
      "<tr><td><img src=\"https://cf.geekdo-images.com/j9RO81ihYw0_oPj6iqV_bA__thumb/img/iRomFjZ0oELmm1pBVtJrNwyl4nc=/fit-in/200x150/filters:strip_icc()/pic6682376.jpg\" /></td><td>Wellsroderick</td><td>ngeagan</td></tr>   \n",
      "<tr><td><img src=\"https://cf.geekdo-images.com/sy89BiuZXfbSnG7Cag9tBQ__thumb/img/eTnMwfCC2jCGDPXC08SIaMXNOTM=/fit-in/200x150/filters:strip_icc()/pic5902073.png\" /></td><td>Wellsroderick</td><td>ngeagan</td></tr>   \n",
      "<tr><td><img src=\"https://cf.geekdo-images.com/nagl1li6kYt9elV9jbfVQw__thumb/img/ykeqdM_Naz4IiqOgyB1arzteOiU=/fit-in/200x150/filters:strip_icc()/pic6228507.jpg\" /></td><td>Wellsroderick</td><td>ngeagan</td></tr>   \n",
      "<tr><td><img src=\"https://cf.geekdo-images.com/V0OZ9QR0pC9G5t5i9MoZTQ__thumb/img/NPtXuKlsnfPORSn6kpTcf-ZdEF0=/fit-in/200x150/filters:strip_icc()/pic6950224.jpg\" /></td><td>Wellsroderick</td><td>ngeagan</td></tr>   \n",
      "<tr><td><img src=\"https://cf.geekdo-images.com/X1oNtZV5H5BxtxlsTGIsHA__thumb/img/wvQPqF45KlfnRB-Z4ESK9VXzZMM=/fit-in/200x150/filters:strip_icc()/pic6037615.png\" /></td><td>Wellsroderick</td><td>ngeagan</td></tr>   \n",
      "<tr><td><img src=\"https://cf.geekdo-images.com/mF2cSNRk2O6HtE45Sl9TcA__thumb/img/K2AgL-KE_CTcvwahWd7zlt9YR0U=/fit-in/200x150/filters:strip_icc()/pic4852372.jpg\" /></td><td>Wellsroderick</td><td>Wellsroderick</td></tr>   \n",
      "<tr><td><img src=\"https://cf.geekdo-images.com/x3zxjr-Vw5iU4yDPg70Jgw__thumb/img/o18rjEemoWaVru9Y2TyPwuIaRfE=/fit-in/200x150/filters:strip_icc()/pic3490053.jpg\" /></td><td>Wellsroderick</td><td>withouthavingseen</td></tr>   \n",
      "<tr><td><img src=\"https://cf.geekdo-images.com/2XyrRgxJZLGDTuQFQnQAtg__thumb/img/ziJ91uPeJZ0iLRK4kaguMuxZp-o=/fit-in/200x150/filters:strip_icc()/pic3610801.jpg\" /></td><td>Wellsroderick</td><td>withouthavingseen</td></tr>   \n",
      "<tr><td><img src=\"https://cf.geekdo-images.com/j9RO81ihYw0_oPj6iqV_bA__thumb/img/iRomFjZ0oELmm1pBVtJrNwyl4nc=/fit-in/200x150/filters:strip_icc()/pic6682376.jpg\" /></td><td>Wellsroderick</td><td>withouthavingseen</td></tr>   \n",
      "<tr><td><img src=\"https://cf.geekdo-images.com/4ZCV2o_OiGha0bknXDTfdA__thumb/img/S3t6BJifjuZMOwfnUQ6lcdUx9RA=/fit-in/200x150/filters:strip_icc()/pic6678381.jpg\" /></td><td>Wellsroderick</td><td>withouthavingseen</td></tr>   \n",
      "</table>\n"
     ]
    }
   ],
   "source": [
    "print(\"Games matches for wishlist\")\n",
    "matches = [] # [(game,userWish,userOwn)]\n",
    "for i in range(len(users)):\n",
    "    for j in range(len(users)):\n",
    "        for g1 in collections[users[i]]:\n",
    "            for g2 in collections[users[j]]:\n",
    "                if g1.objectid == g2.objectid and g1.wish!=0 and g2.own==1:\n",
    "                    matches.append( (g1, users[i], users[j]) )\n",
    "print(\"<table><tr><th>Game</th><th>Wants to play</th><th>Owns</th></tr>\")\n",
    "for (game, userWish, userOwn) in matches:\n",
    "    out = f'<tr><td><img src=\"{game.thumbnail}\" /></td>'\n",
    "    out += f\"<td>{userWish}</td><td>{userOwn}</td>\"\n",
    "    out += '</tr>   '\n",
    "    print(out)\n",
    "      \n",
    "print(\"</table>\")"
   ]
  }
 ],
 "metadata": {
  "kernelspec": {
   "display_name": "Python 3",
   "language": "python",
   "name": "python3"
  },
  "language_info": {
   "codemirror_mode": {
    "name": "ipython",
    "version": 3
   },
   "file_extension": ".py",
   "mimetype": "text/x-python",
   "name": "python",
   "nbconvert_exporter": "python",
   "pygments_lexer": "ipython3",
   "version": "3.8.10"
  }
 },
 "nbformat": 4,
 "nbformat_minor": 2
}
