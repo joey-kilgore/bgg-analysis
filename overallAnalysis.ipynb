{
 "cells": [
  {
   "cell_type": "code",
   "execution_count": 2,
   "metadata": {},
   "outputs": [],
   "source": [
    "from utils import *\n",
    "import time\n",
    "import pickle\n",
    "\n",
    "with open('usernames.pkl', 'rb') as f:\n",
    "    users = pickle.load(f)\n",
    "with open('games.pkl', 'rb') as f:\n",
    "    foundGames = pickle.load(f)\n",
    "with open('ratings.pkl', 'rb') as f:\n",
    "    ratings = pickle.load(f)"
   ]
  },
  {
   "cell_type": "code",
   "execution_count": 5,
   "metadata": {},
   "outputs": [
    {
     "name": "stdout",
     "output_type": "stream",
     "text": [
      "507\n"
     ]
    }
   ],
   "source": [
    "numRatings = 0\n",
    "for k in ratings.keys():\n",
    "    numRatings += len(ratings[k])\n",
    "\n",
    "print(numRatings)"
   ]
  }
 ],
 "metadata": {
  "kernelspec": {
   "display_name": "Python 3",
   "language": "python",
   "name": "python3"
  },
  "language_info": {
   "codemirror_mode": {
    "name": "ipython",
    "version": 3
   },
   "file_extension": ".py",
   "mimetype": "text/x-python",
   "name": "python",
   "nbconvert_exporter": "python",
   "pygments_lexer": "ipython3",
   "version": "3.7.7"
  }
 },
 "nbformat": 4,
 "nbformat_minor": 2
}
